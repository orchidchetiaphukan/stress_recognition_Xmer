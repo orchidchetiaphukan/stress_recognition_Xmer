{
  "metadata": {
    "kernelspec": {
      "language": "python",
      "display_name": "Python 3",
      "name": "python3"
    },
    "language_info": {
      "name": "python",
      "version": "3.7.12",
      "mimetype": "text/x-python",
      "codemirror_mode": {
        "name": "ipython",
        "version": 3
      },
      "pygments_lexer": "ipython3",
      "nbconvert_exporter": "python",
      "file_extension": ".py"
    },
    "colab": {
      "name": "Stress_Transformer.ipynb",
      "provenance": [],
      "collapsed_sections": []
    }
  },
  "nbformat_minor": 0,
  "nbformat": 4,
  "cells": [
    {
      "cell_type": "code",
      "source": [
        "!pip install tensorflow_addons"
      ],
      "metadata": {
        "id": "6NF_lRZFfVKl",
        "execution": {
          "iopub.status.busy": "2022-03-29T16:10:42.577789Z",
          "iopub.execute_input": "2022-03-29T16:10:42.578498Z",
          "iopub.status.idle": "2022-03-29T16:10:52.018909Z",
          "shell.execute_reply.started": "2022-03-29T16:10:42.578438Z",
          "shell.execute_reply": "2022-03-29T16:10:52.017778Z"
        },
        "trusted": true
      },
      "execution_count": null,
      "outputs": []
    },
    {
      "cell_type": "markdown",
      "source": [
        "# Importing the libraries"
      ],
      "metadata": {
        "id": "X_-oWlxVLLwq"
      }
    },
    {
      "cell_type": "code",
      "source": [
        "import numpy as np\n",
        "import pandas as pd\n",
        "import tensorflow as tf\n",
        "import matplotlib.pyplot as plt\n",
        "from tensorflow.keras.layers import Input, Lambda, Dense, Flatten,Conv2D\n",
        "from tensorflow.keras import layers\n",
        "from tensorflow import keras\n",
        "import tensorflow_addons as tfa\n",
        "from tensorflow import keras\n",
        "import tensorflow\n",
        "from time import time\n",
        "from tensorflow.keras.models import Sequential\n",
        "from tensorflow.keras.layers import MaxPooling2D"
      ],
      "metadata": {
        "id": "IHUjdjYcfXSR",
        "execution": {
          "iopub.status.busy": "2022-03-29T16:10:52.020558Z",
          "iopub.execute_input": "2022-03-29T16:10:52.020845Z",
          "iopub.status.idle": "2022-03-29T16:10:54.195082Z",
          "shell.execute_reply.started": "2022-03-29T16:10:52.020808Z",
          "shell.execute_reply": "2022-03-29T16:10:54.194043Z"
        },
        "trusted": true
      },
      "execution_count": null,
      "outputs": []
    },
    {
      "cell_type": "markdown",
      "source": [
        "# Loading the Data"
      ],
      "metadata": {
        "id": "kEfYljE0fYAj"
      }
    },
    {
      "cell_type": "code",
      "source": [
        "features_train = np.load(\"../input/data-xmer/features_trainx.npy\")\n",
        "target_train = np.load(\"../input/data-xmer/target_trainoex.npy\")\n",
        "features_test = np.load(\"../input/data-xmer/features_testx.npy\")\n",
        "target_test = np.load(\"../input/data-xmer/target_testoex.npy\")\n",
        "print(features_train.shape)\n",
        "print(target_train.shape)\n",
        "print(features_test.shape)\n",
        "print(target_test.shape)"
      ],
      "metadata": {
        "execution": {
          "iopub.status.busy": "2022-03-29T16:10:54.198720Z",
          "iopub.execute_input": "2022-03-29T16:10:54.199145Z",
          "iopub.status.idle": "2022-03-29T16:10:55.234739Z",
          "shell.execute_reply.started": "2022-03-29T16:10:54.199102Z",
          "shell.execute_reply": "2022-03-29T16:10:55.233658Z"
        },
        "trusted": true,
        "id": "C_bP2Qi8LLwy"
      },
      "execution_count": null,
      "outputs": []
    },
    {
      "cell_type": "code",
      "source": [
        "target_train.shape"
      ],
      "metadata": {
        "execution": {
          "iopub.status.busy": "2022-03-29T16:10:55.236259Z",
          "iopub.execute_input": "2022-03-29T16:10:55.237174Z",
          "iopub.status.idle": "2022-03-29T16:10:55.248679Z",
          "shell.execute_reply.started": "2022-03-29T16:10:55.237127Z",
          "shell.execute_reply": "2022-03-29T16:10:55.247432Z"
        },
        "trusted": true,
        "id": "XRhW3SmqLLw0"
      },
      "execution_count": null,
      "outputs": []
    },
    {
      "cell_type": "markdown",
      "source": [
        "# Building the Model Architecture"
      ],
      "metadata": {
        "id": "t2UF8DfhnP0g"
      }
    },
    {
      "cell_type": "code",
      "source": [
        "def Encoder(inputs, head_size, num_heads, ff_dim, dropout=0):\n",
        "    # Multihead-Attention\n",
        "    x = layers.LayerNormalization(epsilon=1e-6)(inputs)\n",
        "    x = layers.MultiHeadAttention(\n",
        "        key_dim=head_size, num_heads=num_heads, dropout=dropout\n",
        "    )(x, x)\n",
        "    x = layers.Dropout(dropout)(x)\n",
        "    res = x + inputs\n",
        "\n",
        "    # Feed Forward Network\n",
        "    x = layers.LayerNormalization(epsilon=1e-6)(res)\n",
        "    x = layers.Conv1D(filters=ff_dim, kernel_size=1, activation=\"relu\")(x)\n",
        "    x = layers.Dropout(dropout)(x)\n",
        "    x = layers.Conv1D(filters=inputs.shape[-1], kernel_size=1)(x)\n",
        "    return x + res"
      ],
      "metadata": {
        "id": "pg2BZ8wG5dsk",
        "execution": {
          "iopub.status.busy": "2022-03-29T16:10:55.264191Z",
          "iopub.execute_input": "2022-03-29T16:10:55.264764Z",
          "iopub.status.idle": "2022-03-29T16:10:55.277012Z",
          "shell.execute_reply.started": "2022-03-29T16:10:55.264717Z",
          "shell.execute_reply": "2022-03-29T16:10:55.276035Z"
        },
        "trusted": true
      },
      "execution_count": null,
      "outputs": []
    },
    {
      "cell_type": "code",
      "source": [
        "n_classes = 3\n",
        "def Model(\n",
        "    input_shape,\n",
        "    head_size,\n",
        "    num_heads,\n",
        "    ff_dim,\n",
        "    num_transformer_blocks,\n",
        "    mlp_units,\n",
        "    dropout=0,\n",
        "    mlp_dropout=0,\n",
        "):\n",
        "    inputs = keras.Input(shape=input_shape)\n",
        "    x = inputs\n",
        "    for _ in range(num_transformer_blocks):\n",
        "        x = Encoder(x, head_size, num_heads, ff_dim, dropout)\n",
        "\n",
        "    x = layers.GlobalAveragePooling1D(data_format=\"channels_first\")(x)\n",
        "    for dim in mlp_units:\n",
        "        x = layers.Dense(dim, activation='relu')(x)\n",
        "        x = tf.keras.layers.BatchNormalization()(x)\n",
        "        x = layers.Dense(30, activation = 'relu')(x)\n",
        "        x = layers.Dropout(mlp_dropout)(x)\n",
        "    outputs = layers.Dense(n_classes, activation=\"softmax\")(x)\n",
        "    return keras.Model(inputs, outputs)"
      ],
      "metadata": {
        "id": "gsdhDFeC5en3",
        "execution": {
          "iopub.status.busy": "2022-03-29T16:10:55.280988Z",
          "iopub.execute_input": "2022-03-29T16:10:55.281615Z",
          "iopub.status.idle": "2022-03-29T16:10:55.292459Z",
          "shell.execute_reply.started": "2022-03-29T16:10:55.281580Z",
          "shell.execute_reply": "2022-03-29T16:10:55.291351Z"
        },
        "trusted": true
      },
      "execution_count": null,
      "outputs": []
    },
    {
      "cell_type": "code",
      "source": [
        "input_shape = features_train.shape[1:]\n",
        "\n",
        "model = Model(\n",
        "    input_shape,\n",
        "    head_size=200,\n",
        "    num_heads=2,\n",
        "    ff_dim=4,\n",
        "    num_transformer_blocks=2,\n",
        "    mlp_units=[56],\n",
        "    mlp_dropout=0.3, #0.4\n",
        "    dropout=0.2,#0.255\n",
        ")\n",
        "\n",
        "model.summary()"
      ],
      "metadata": {
        "id": "DRj82AWQ5nYP",
        "execution": {
          "iopub.status.busy": "2022-03-29T16:10:55.295847Z",
          "iopub.execute_input": "2022-03-29T16:10:55.296160Z",
          "iopub.status.idle": "2022-03-29T16:10:56.687918Z",
          "shell.execute_reply.started": "2022-03-29T16:10:55.296115Z",
          "shell.execute_reply": "2022-03-29T16:10:56.686942Z"
        },
        "trusted": true
      },
      "execution_count": null,
      "outputs": []
    },
    {
      "cell_type": "code",
      "source": [
        "tf.keras.utils.plot_model(model,to_file = 'xmer_1.png', show_shapes=True)"
      ],
      "metadata": {
        "execution": {
          "iopub.status.busy": "2022-03-29T16:10:56.689612Z",
          "iopub.execute_input": "2022-03-29T16:10:56.689917Z",
          "iopub.status.idle": "2022-03-29T16:10:56.947872Z",
          "shell.execute_reply.started": "2022-03-29T16:10:56.689873Z",
          "shell.execute_reply": "2022-03-29T16:10:56.946886Z"
        },
        "trusted": true,
        "id": "LAMHBjG-LLxE"
      },
      "execution_count": null,
      "outputs": []
    },
    {
      "cell_type": "code",
      "source": [
        "lr = 1e-3\n",
        "\n",
        "optimizer = tfa.optimizers.RectifiedAdam(learning_rate = lr)\n",
        "\n",
        "model.compile(optimizer = optimizer, \n",
        "              loss = tf.keras.losses.CategoricalCrossentropy(), \n",
        "              metrics = 'accuracy')\n",
        "\n",
        "reduce_lr = tf.keras.callbacks.ReduceLROnPlateau(monitor = 'val_accuracy',\n",
        "                                                 factor = 0.2,\n",
        "                                                 patience = 1,\n",
        "                                                 verbose = 2,\n",
        "                                                 min_delta = 1e-4,\n",
        "                                                 min_lr = 1e-9,\n",
        "                                                 mode = 'max')\n",
        "\n",
        "earlystopping = tf.keras.callbacks.EarlyStopping(monitor = 'val_accuracy',\n",
        "                                                 min_delta = 1e-4,\n",
        "                                                 patience = 3,\n",
        "                                                 mode = 'max',\n",
        "                                                 restore_best_weights = True,\n",
        "                                                 verbose = 1)\n",
        "\n",
        "checkpointer = tf.keras.callbacks.ModelCheckpoint(filepath ='./xmer_1.hdf5',\n",
        "                                                  monitor = 'val_accuracy', \n",
        "                                                  verbose = 1, \n",
        "                                                  save_best_only = True,\n",
        "                                                  save_weights_only = True,\n",
        "                                                  mode = 'max')\n",
        "\n",
        "\n",
        "class TimeHistory(tf.keras.callbacks.Callback):\n",
        "    def on_train_begin(self, logs={}):\n",
        "        self.times = []\n",
        "\n",
        "    def on_epoch_begin(self, batch, logs={}):\n",
        "        self.epoch_time_start = time()\n",
        "\n",
        "    def on_epoch_end(self, batch, logs={}):\n",
        "        self.times.append(time() - self.epoch_time_start)\n",
        "        \n",
        "\n",
        "time_callback = TimeHistory()\n",
        "\n",
        "callbacks = [earlystopping, reduce_lr, checkpointer , time_callback] "
      ],
      "metadata": {
        "execution": {
          "iopub.status.busy": "2022-03-29T16:10:56.966057Z",
          "iopub.execute_input": "2022-03-29T16:10:56.966753Z",
          "iopub.status.idle": "2022-03-29T16:10:56.994968Z",
          "shell.execute_reply.started": "2022-03-29T16:10:56.966706Z",
          "shell.execute_reply": "2022-03-29T16:10:56.993893Z"
        },
        "trusted": true,
        "id": "FQm5mbjlLLxH"
      },
      "execution_count": null,
      "outputs": []
    },
    {
      "cell_type": "markdown",
      "source": [
        "# Training the model"
      ],
      "metadata": {
        "id": "zlCW3rtGNlLm"
      }
    },
    {
      "cell_type": "code",
      "source": [
        "int_epoch = 10\n",
        "batch = 16\n",
        "cw = {0:0,1:0,2:0.6}\n",
        "history = model.fit(\n",
        "    features_train,\n",
        "    target_train,\n",
        "    validation_data = (features_test, target_test),\n",
        "    epochs=int_epoch,\n",
        "    batch_size= batch,\n",
        "    callbacks=callbacks,\n",
        "    class_weight = cw\n",
        "     )"
      ],
      "metadata": {
        "execution": {
          "iopub.status.busy": "2022-03-29T16:10:57.001679Z",
          "iopub.execute_input": "2022-03-29T16:10:57.002408Z",
          "iopub.status.idle": "2022-03-29T17:24:50.121284Z",
          "shell.execute_reply.started": "2022-03-29T16:10:57.002359Z",
          "shell.execute_reply": "2022-03-29T17:24:50.119824Z"
        },
        "trusted": true,
        "id": "b-bC_KbBLLxI"
      },
      "execution_count": null,
      "outputs": []
    },
    {
      "cell_type": "code",
      "source": [
        " print(f\"Loss: {history.history['loss'][-1]}\")       \n",
        "print(f\"accuracy: {history.history['accuracy'][-1]}\")   \n",
        "print(f\"Validation accuracy: {history.history['val_accuracy'][-1]}\")  \n",
        "print(f\"Training Time: {sum(time_callback.times)}\")      "
      ],
      "metadata": {
        "execution": {
          "iopub.status.busy": "2022-03-29T17:24:50.122694Z",
          "iopub.execute_input": "2022-03-29T17:24:50.123044Z",
          "iopub.status.idle": "2022-03-29T17:24:50.131604Z",
          "shell.execute_reply.started": "2022-03-29T17:24:50.123000Z",
          "shell.execute_reply": "2022-03-29T17:24:50.130358Z"
        },
        "trusted": true,
        "id": "cbRnLQaRLLxJ"
      },
      "execution_count": null,
      "outputs": []
    },
    {
      "cell_type": "markdown",
      "source": [
        "# Evaluating the model"
      ],
      "metadata": {
        "id": "kz0K2L9KNoXj"
      }
    },
    {
      "cell_type": "code",
      "source": [
        "acc = history.history['accuracy']\n",
        "val_acc = history.history['val_accuracy']\n",
        "\n",
        "loss = history.history['loss']\n",
        "val_loss = history.history['val_loss'] \n",
        "\n",
        "\n",
        "plt.figure(figsize=(9, 9)) \n",
        "plt.subplot(2, 1, 1)\n",
        "plt.tight_layout(pad=3.0)\n",
        "plt.plot(acc, label='Train' , linewidth = 3)\n",
        "plt.plot(val_acc, label='Validation', linewidth = 3)\n",
        "plt.xticks(fontsize=15)\n",
        "plt.yticks(fontsize=15)\n",
        "plt.legend(loc='upper left' , prop={'size': 16})\n",
        "plt.xlabel('Epochs', fontsize=16)\n",
        "plt.ylabel('Accuracy' , fontsize=16)\n",
        "plt.ylim([min(plt.ylim()),1])\n",
        "plt.title('Training and Validation accuracy', fontsize=16)\n",
        "\n",
        "plt.subplot(2, 1, 2)\n",
        "plt.tight_layout(pad=3.0)\n",
        "plt.plot(loss, label='Train', linewidth = 3)\n",
        "plt.plot(val_loss, label='Validation', linewidth = 3)\n",
        "plt.xticks(fontsize=15)\n",
        "plt.yticks(fontsize=15)\n",
        "plt.legend(loc='center left', prop={'size': 16})\n",
        "plt.xlabel('Epochs', fontsize=16)\n",
        "plt.ylabel('Cross-entropy Loss', fontsize=16)\n",
        "plt.ylim([0,max(plt.ylim())])\n",
        "plt.title('Training and Validation Cross-entropy Loss', fontsize=16)\n",
        "plt.show()"
      ],
      "metadata": {
        "execution": {
          "iopub.status.busy": "2022-03-29T17:31:02.507972Z",
          "iopub.execute_input": "2022-03-29T17:31:02.508397Z",
          "iopub.status.idle": "2022-03-29T17:31:02.999500Z",
          "shell.execute_reply.started": "2022-03-29T17:31:02.508363Z",
          "shell.execute_reply": "2022-03-29T17:31:02.998499Z"
        },
        "trusted": true,
        "id": "lXVokomiLLxK"
      },
      "execution_count": null,
      "outputs": []
    },
    {
      "cell_type": "code",
      "source": [
        "loss = np.array(loss)\n",
        "val_loss = np.array(val_loss)\n",
        "acc = np.array(acc)\n",
        "val_acc = np.array(val_acc)\n",
        "\n",
        "np.save(\"./xmer_1loss.npy\", loss) \n",
        "np.save(\"./xmer_1val_loss.npy\", val_loss) \n",
        "np.save(\"./xmer_1acc.npy\", acc) \n",
        "np.save(\"./xmer_1val_acc.npy\", val_acc) "
      ],
      "metadata": {
        "execution": {
          "iopub.status.busy": "2022-03-29T17:25:29.881280Z",
          "iopub.execute_input": "2022-03-29T17:25:29.882467Z",
          "iopub.status.idle": "2022-03-29T17:25:29.892365Z",
          "shell.execute_reply.started": "2022-03-29T17:25:29.882420Z",
          "shell.execute_reply": "2022-03-29T17:25:29.891262Z"
        },
        "trusted": true,
        "id": "6clS3RsFLLxL"
      },
      "execution_count": null,
      "outputs": []
    },
    {
      "cell_type": "code",
      "source": [
        "def load_trained_model(weights_path):\n",
        "   model = build_model(\n",
        "    input_shape,\n",
        "    head_size=200,\n",
        "    num_heads=2,\n",
        "    ff_dim=4,\n",
        "    num_transformer_blocks=2,\n",
        "    mlp_units=[56],\n",
        "    mlp_dropout=0.3,\n",
        "    dropout=0.25,\n",
        ")\n",
        "   model.load_weights(weights_path)\n",
        "   return model\n",
        "\n",
        "new_model = load_trained_model(\"./xmer_1.hdf5\")\n",
        "new_model.summary()"
      ],
      "metadata": {
        "execution": {
          "iopub.status.busy": "2022-03-29T17:25:29.894509Z",
          "iopub.execute_input": "2022-03-29T17:25:29.894995Z",
          "iopub.status.idle": "2022-03-29T17:25:30.188035Z",
          "shell.execute_reply.started": "2022-03-29T17:25:29.894954Z",
          "shell.execute_reply": "2022-03-29T17:25:30.187128Z"
        },
        "trusted": true,
        "id": "3hRFrAaILLxM"
      },
      "execution_count": null,
      "outputs": []
    },
    {
      "cell_type": "code",
      "source": [
        "y_true = tf.argmax(target_test,axis = 1)\n",
        "y_pred = new_model.predict(features_test)\n",
        "y_predargmax = tf.argmax(y_pred , 1)\n",
        "print(y_predargmax)"
      ],
      "metadata": {
        "execution": {
          "iopub.status.busy": "2022-03-29T17:25:30.228060Z",
          "iopub.execute_input": "2022-03-29T17:25:30.228456Z",
          "iopub.status.idle": "2022-03-29T17:25:47.023471Z",
          "shell.execute_reply.started": "2022-03-29T17:25:30.228410Z",
          "shell.execute_reply": "2022-03-29T17:25:47.022421Z"
        },
        "trusted": true,
        "id": "-lp0H5OULLxP"
      },
      "execution_count": null,
      "outputs": []
    },
    {
      "cell_type": "code",
      "source": [
        "from sklearn.metrics import classification_report\n",
        "clreport = classification_report(y_true, y_predargmax , digits = 4)\n",
        "print(clreport) "
      ],
      "metadata": {
        "execution": {
          "iopub.status.busy": "2022-03-29T17:25:47.024940Z",
          "iopub.execute_input": "2022-03-29T17:25:47.025478Z",
          "iopub.status.idle": "2022-03-29T17:25:47.321594Z",
          "shell.execute_reply.started": "2022-03-29T17:25:47.025428Z",
          "shell.execute_reply": "2022-03-29T17:25:47.320552Z"
        },
        "trusted": true,
        "id": "8j0WOHxvLLxQ"
      },
      "execution_count": null,
      "outputs": []
    },
    {
      "cell_type": "code",
      "source": [
        "from sklearn.metrics import confusion_matrix\n",
        "import seaborn as sns\n",
        "classes = ['Baseline','Stress','Amusement']\n",
        "matrix = confusion_matrix(y_true, y_predargmax, normalize= 'true')\n",
        "plt.figure(figsize=(7, 7))\n",
        "ax = sns.heatmap(matrix *100 ,\n",
        "                cmap='coolwarm',\n",
        "                linecolor='white',\n",
        "                linewidths=1,\n",
        "                annot=True,\n",
        "                fmt='.2f')\n",
        "for t in ax.texts: t.set_text(t.get_text() + \" %\")\n",
        "plt.title('Confusion Matrix',fontsize = 16)\n",
        "plt.ylabel('True Labels',fontsize = 15)\n",
        "plt.xlabel('Predicted Labels', fontsize = 15)\n",
        "plt.yticks(verticalalignment = 'center')\n",
        "ax.xaxis.set_ticklabels(classes,fontsize = 13); ax.yaxis.set_ticklabels(classes,fontsize = 13)\n",
        "plt.show()\n"
      ],
      "metadata": {
        "execution": {
          "iopub.status.busy": "2022-03-29T17:28:26.674980Z",
          "iopub.execute_input": "2022-03-29T17:28:26.675314Z",
          "iopub.status.idle": "2022-03-29T17:28:26.958089Z",
          "shell.execute_reply.started": "2022-03-29T17:28:26.675261Z",
          "shell.execute_reply": "2022-03-29T17:28:26.957184Z"
        },
        "trusted": true,
        "id": "cvrhsi6NLLxQ"
      },
      "execution_count": null,
      "outputs": []
    }
  ]
}